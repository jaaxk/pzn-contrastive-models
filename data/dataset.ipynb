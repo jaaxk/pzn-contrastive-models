{
 "cells": [
  {
   "cell_type": "code",
   "execution_count": 1,
   "id": "c996f5e2",
   "metadata": {},
   "outputs": [],
   "source": [
    "import pandas as pd"
   ]
  },
  {
   "cell_type": "code",
   "execution_count": 3,
   "id": "941d1f53",
   "metadata": {},
   "outputs": [],
   "source": [
    "df = pd.read_csv('data/Last.fm_data.csv')"
   ]
  },
  {
   "cell_type": "code",
   "execution_count": 4,
   "id": "7b271234",
   "metadata": {},
   "outputs": [
    {
     "data": {
      "text/html": [
       "<div>\n",
       "<style scoped>\n",
       "    .dataframe tbody tr th:only-of-type {\n",
       "        vertical-align: middle;\n",
       "    }\n",
       "\n",
       "    .dataframe tbody tr th {\n",
       "        vertical-align: top;\n",
       "    }\n",
       "\n",
       "    .dataframe thead th {\n",
       "        text-align: right;\n",
       "    }\n",
       "</style>\n",
       "<table border=\"1\" class=\"dataframe\">\n",
       "  <thead>\n",
       "    <tr style=\"text-align: right;\">\n",
       "      <th></th>\n",
       "      <th>Unnamed: 0</th>\n",
       "      <th>Username</th>\n",
       "      <th>Artist</th>\n",
       "      <th>Track</th>\n",
       "      <th>Album</th>\n",
       "      <th>Date</th>\n",
       "      <th>Time</th>\n",
       "    </tr>\n",
       "  </thead>\n",
       "  <tbody>\n",
       "    <tr>\n",
       "      <th>0</th>\n",
       "      <td>0</td>\n",
       "      <td>Babs_05</td>\n",
       "      <td>Isobel Campbell</td>\n",
       "      <td>The Circus Is Leaving Town</td>\n",
       "      <td>Ballad of the Broken Seas</td>\n",
       "      <td>31 Jan 2021</td>\n",
       "      <td>23:36</td>\n",
       "    </tr>\n",
       "    <tr>\n",
       "      <th>1</th>\n",
       "      <td>1</td>\n",
       "      <td>Babs_05</td>\n",
       "      <td>Isobel Campbell</td>\n",
       "      <td>Dusty Wreath</td>\n",
       "      <td>Ballad of the Broken Seas</td>\n",
       "      <td>31 Jan 2021</td>\n",
       "      <td>23:32</td>\n",
       "    </tr>\n",
       "    <tr>\n",
       "      <th>2</th>\n",
       "      <td>2</td>\n",
       "      <td>Babs_05</td>\n",
       "      <td>Isobel Campbell</td>\n",
       "      <td>Honey Child What Can I Do?</td>\n",
       "      <td>Ballad of the Broken Seas</td>\n",
       "      <td>31 Jan 2021</td>\n",
       "      <td>23:28</td>\n",
       "    </tr>\n",
       "    <tr>\n",
       "      <th>3</th>\n",
       "      <td>3</td>\n",
       "      <td>Babs_05</td>\n",
       "      <td>Isobel Campbell</td>\n",
       "      <td>It's Hard To Kill A Bad Thing</td>\n",
       "      <td>Ballad of the Broken Seas</td>\n",
       "      <td>31 Jan 2021</td>\n",
       "      <td>23:25</td>\n",
       "    </tr>\n",
       "    <tr>\n",
       "      <th>4</th>\n",
       "      <td>4</td>\n",
       "      <td>Babs_05</td>\n",
       "      <td>Isobel Campbell</td>\n",
       "      <td>Saturday's Gone</td>\n",
       "      <td>Ballad of the Broken Seas</td>\n",
       "      <td>31 Jan 2021</td>\n",
       "      <td>23:21</td>\n",
       "    </tr>\n",
       "    <tr>\n",
       "      <th>...</th>\n",
       "      <td>...</td>\n",
       "      <td>...</td>\n",
       "      <td>...</td>\n",
       "      <td>...</td>\n",
       "      <td>...</td>\n",
       "      <td>...</td>\n",
       "      <td>...</td>\n",
       "    </tr>\n",
       "    <tr>\n",
       "      <th>166148</th>\n",
       "      <td>265624</td>\n",
       "      <td>Orlenay</td>\n",
       "      <td>Kelly Lee Owens</td>\n",
       "      <td>Arpeggi</td>\n",
       "      <td>Inner Song</td>\n",
       "      <td>30 Jan 2021</td>\n",
       "      <td>18:30</td>\n",
       "    </tr>\n",
       "    <tr>\n",
       "      <th>166149</th>\n",
       "      <td>265625</td>\n",
       "      <td>Orlenay</td>\n",
       "      <td>Caterina Barbieri</td>\n",
       "      <td>Bow of Perception</td>\n",
       "      <td>Ecstatic Computation</td>\n",
       "      <td>30 Jan 2021</td>\n",
       "      <td>18:19</td>\n",
       "    </tr>\n",
       "    <tr>\n",
       "      <th>166150</th>\n",
       "      <td>265626</td>\n",
       "      <td>Orlenay</td>\n",
       "      <td>Caterina Barbieri</td>\n",
       "      <td>Pinnacles of You</td>\n",
       "      <td>Ecstatic Computation</td>\n",
       "      <td>30 Jan 2021</td>\n",
       "      <td>18:13</td>\n",
       "    </tr>\n",
       "    <tr>\n",
       "      <th>166151</th>\n",
       "      <td>265627</td>\n",
       "      <td>Orlenay</td>\n",
       "      <td>Caterina Barbieri</td>\n",
       "      <td>Arrows of Time</td>\n",
       "      <td>Ecstatic Computation</td>\n",
       "      <td>30 Jan 2021</td>\n",
       "      <td>18:08</td>\n",
       "    </tr>\n",
       "    <tr>\n",
       "      <th>166152</th>\n",
       "      <td>265628</td>\n",
       "      <td>Orlenay</td>\n",
       "      <td>Caterina Barbieri</td>\n",
       "      <td>Closest approach to your Orbit</td>\n",
       "      <td>Ecstatic Computation</td>\n",
       "      <td>30 Jan 2021</td>\n",
       "      <td>18:02</td>\n",
       "    </tr>\n",
       "  </tbody>\n",
       "</table>\n",
       "<p>166153 rows × 7 columns</p>\n",
       "</div>"
      ],
      "text/plain": [
       "        Unnamed: 0 Username             Artist  \\\n",
       "0                0  Babs_05    Isobel Campbell   \n",
       "1                1  Babs_05    Isobel Campbell   \n",
       "2                2  Babs_05    Isobel Campbell   \n",
       "3                3  Babs_05    Isobel Campbell   \n",
       "4                4  Babs_05    Isobel Campbell   \n",
       "...            ...      ...                ...   \n",
       "166148      265624  Orlenay    Kelly Lee Owens   \n",
       "166149      265625  Orlenay  Caterina Barbieri   \n",
       "166150      265626  Orlenay  Caterina Barbieri   \n",
       "166151      265627  Orlenay  Caterina Barbieri   \n",
       "166152      265628  Orlenay  Caterina Barbieri   \n",
       "\n",
       "                                 Track                      Album  \\\n",
       "0           The Circus Is Leaving Town  Ballad of the Broken Seas   \n",
       "1                         Dusty Wreath  Ballad of the Broken Seas   \n",
       "2           Honey Child What Can I Do?  Ballad of the Broken Seas   \n",
       "3        It's Hard To Kill A Bad Thing  Ballad of the Broken Seas   \n",
       "4                      Saturday's Gone  Ballad of the Broken Seas   \n",
       "...                                ...                        ...   \n",
       "166148                         Arpeggi                 Inner Song   \n",
       "166149               Bow of Perception       Ecstatic Computation   \n",
       "166150                Pinnacles of You       Ecstatic Computation   \n",
       "166151                  Arrows of Time       Ecstatic Computation   \n",
       "166152  Closest approach to your Orbit       Ecstatic Computation   \n",
       "\n",
       "               Date    Time  \n",
       "0       31 Jan 2021   23:36  \n",
       "1       31 Jan 2021   23:32  \n",
       "2       31 Jan 2021   23:28  \n",
       "3       31 Jan 2021   23:25  \n",
       "4       31 Jan 2021   23:21  \n",
       "...             ...     ...  \n",
       "166148  30 Jan 2021   18:30  \n",
       "166149  30 Jan 2021   18:19  \n",
       "166150  30 Jan 2021   18:13  \n",
       "166151  30 Jan 2021   18:08  \n",
       "166152  30 Jan 2021   18:02  \n",
       "\n",
       "[166153 rows x 7 columns]"
      ]
     },
     "execution_count": 4,
     "metadata": {},
     "output_type": "execute_result"
    }
   ],
   "source": [
    "df"
   ]
  },
  {
   "cell_type": "code",
   "execution_count": 13,
   "id": "d0202990",
   "metadata": {},
   "outputs": [],
   "source": [
    "df['ArtistTrack'] = df['Artist'] + ' - ' + df['Track']"
   ]
  },
  {
   "cell_type": "code",
   "execution_count": 16,
   "id": "1db8b524",
   "metadata": {},
   "outputs": [
    {
     "data": {
      "text/plain": [
       "ArtistTrack\n",
       "Metric - Cascades (Dirt Road Version)                           297\n",
       "Ocean Waves For Sleep - Rolling Ocean Waves                     266\n",
       "Sophie - Immaterial                                             123\n",
       "L'Impératrice - Peur des filles                                 104\n",
       "In k - 迷失幻境 - DJ版                                                99\n",
       "                                                               ... \n",
       "John Parish - Add To the List                                     1\n",
       "Yuzo Koshiro - Dilapidated Town                                   1\n",
       "Quelle Chris - Spray and Pray                                     1\n",
       "Pylon - The Human Body - Remastered                               1\n",
       "Timo Lassy - African Rumble - Live at Savoy Theatre Helsinki      1\n",
       "Name: count, Length: 76038, dtype: int64"
      ]
     },
     "execution_count": 16,
     "metadata": {},
     "output_type": "execute_result"
    }
   ],
   "source": [
    "df['ArtistTrack'].value_counts()"
   ]
  },
  {
   "cell_type": "code",
   "execution_count": 34,
   "id": "d3b960ce",
   "metadata": {},
   "outputs": [
    {
     "data": {
      "text/plain": [
       "76038"
      ]
     },
     "execution_count": 34,
     "metadata": {},
     "output_type": "execute_result"
    }
   ],
   "source": [
    "df = df.drop_duplicates(subset='ArtistTrack')\n",
    "len(df)"
   ]
  },
  {
   "cell_type": "code",
   "execution_count": 35,
   "id": "4287e652",
   "metadata": {},
   "outputs": [],
   "source": [
    "df[['Artist', 'Track']].to_csv('data/Lastfm_reduced.csv', index=False)"
   ]
  },
  {
   "cell_type": "code",
   "execution_count": 36,
   "id": "b413ef11",
   "metadata": {},
   "outputs": [
    {
     "data": {
      "text/plain": [
       "76038"
      ]
     },
     "execution_count": 36,
     "metadata": {},
     "output_type": "execute_result"
    }
   ],
   "source": [
    "df_reduced = pd.read_csv('data/Lastfm_reduced.csv')\n",
    "df_reduced.head()\n",
    "len(df_reduced)"
   ]
  },
  {
   "cell_type": "code",
   "execution_count": 39,
   "id": "56c98710",
   "metadata": {},
   "outputs": [
    {
     "data": {
      "text/plain": [
       "Artist                 Caterina Barbieri\n",
       "Track     Closest approach to your Orbit\n",
       "Name: 76037, dtype: object"
      ]
     },
     "execution_count": 39,
     "metadata": {},
     "output_type": "execute_result"
    }
   ],
   "source": [
    "df_reduced.iloc[76037]"
   ]
  },
  {
   "cell_type": "code",
   "execution_count": null,
   "id": "2aede589",
   "metadata": {},
   "outputs": [],
   "source": []
  }
 ],
 "metadata": {
  "kernelspec": {
   "display_name": "bioinformatics",
   "language": "python",
   "name": "python3"
  },
  "language_info": {
   "codemirror_mode": {
    "name": "ipython",
    "version": 3
   },
   "file_extension": ".py",
   "mimetype": "text/x-python",
   "name": "python",
   "nbconvert_exporter": "python",
   "pygments_lexer": "ipython3",
   "version": "3.13.1"
  }
 },
 "nbformat": 4,
 "nbformat_minor": 5
}
